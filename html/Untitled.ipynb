{
 "cells": [
  {
   "cell_type": "code",
   "execution_count": 23,
   "metadata": {},
   "outputs": [
    {
     "data": {
      "text/html": [
       "<div><pre style=\"&#102;&#111;&#110;&#116;&#45;&#102;&#97;&#109;&#105;&#108;&#121;&#58;&#32;&#34;&#67;&#111;&#117;&#114;&#105;&#101;&#114;&#32;&#78;&#101;&#119;&#34;&#44;&#67;&#111;&#117;&#114;&#105;&#101;&#114;&#44;&#109;&#111;&#110;&#111;&#115;&#112;&#97;&#99;&#101;&#59;\">&#123;&#123;&#97;&#49;&#44;&#32;&#98;&#49;&#44;&#32;&#99;&#49;&#125;&#44;&#32;&#123;&#97;&#50;&#44;&#32;&#98;&#50;&#44;&#32;&#99;&#50;&#125;&#44;&#32;&#123;&#97;&#51;&#44;&#32;&#98;&#51;&#44;&#32;&#99;&#51;&#125;&#125;</pre></div>"
      ]
     },
     "execution_count": 23,
     "metadata": {
      "text/html": []
     },
     "output_type": "execute_result"
    }
   ],
   "source": [
    "arr = {{a1,b1,c1},{a2,b2,c2}, {a3,b3,c3}}"
   ]
  },
  {
   "cell_type": "code",
   "execution_count": 25,
   "metadata": {},
   "outputs": [
    {
     "data": {
      "text/html": [
       "<div><img alt=\"Output\" src=\"data:image/png;base64,iVBORw0KGgoAAAANSUhEUgAAAfQAAAAPCAIAAACdlqqzAAAAhXpUWHRSYXcgcHJvZmlsZSB0eXBlIGV4aWYAAHjaVYvBDcMwDAP/mqIjyLJM2uMYiQNkg45fuu0n9yApgbT1vi97felp2dgxABc5csRU6P6juNciDXn+X9MfZGWgoRhTluEkhnJXkqKFN+LCAahYcIbnIV8gNQN3o86928QyPusLVffpbh/5eCey76LuBgAAAAlwSFlzAAALEwAACxMBAJqcGAAAADx0RVh0U29mdHdhcmUAQ3JlYXRlZCB3aXRoIHRoZSBXb2xmcmFtIExhbmd1YWdlIDogd3d3LndvbGZyYW0uY29tXKKmhQAAACF0RVh0Q3JlYXRpb24gVGltZQAyMDIwOjA0OjIzIDEwOjU5OjU2+6vTxQAABBhJREFUeJztWjGWqjAUTf5awOIfV4Ar0GmsbKeDUpvfWU43DZRjN+1UNiYrGFfgsYDsJb8QkJCEkIQozORWnneSy817l5cAQkop8PDw8PD4WfjzbAEeHh4eHsPDN3cPDw+PH4hWcydEPEwWtwROYIKdMKtguyAnCSGEmPNaTbYFe3HNso5I+UCTvbsGhXdXKy4b3wo0mjvJkqwQzZHE+XELCOEg3foRVFmSGdJzCSHZYpFZGwjjPlmuFgQh5K5ZnHRVeOWOlE/UXTiBcJo1+lXKZe5qxRvNvZitt8uAnyGLtxW+gs8ijRTjeuAhVEGwXYPcrHy9EmKEIAgUvCR7ve4ppZQWKdi9NkqvnOoUXjnLOU13geUHpZOs0W9SLnMXFzd5597YauoT8fKDfm/NsljRVduWOVVD2E2XhSp73I97jeeGZu4EOzUDUZ6D7ffH8vZrNgfna6+D58OVN8dXIyejnHPRQ5Trwom7WMxnTm4dJ+5iMWLlnLtYDKrcpLnXWw0t0svK8t3JYXVci7YtbeAErgCqlJV349NAskX4tSnqLN2KjpPVJb0FUQyi9LNz5+nOM8kvIF4Pv8whlHeXdczKu13kSrkuHLqrbD7h16ZwcQ85dNcElEvc5Up53dwJzvNQtCZBvN59wt3ZVkCMbusJXjaRzaEIHw9R+k8nNcsZOBlsJrJEsYNOX+d4XxY62O5jo6V15Bkn4W6OHJh4GOUdZR218k4XaSmfqruqnr+/hg7+7ODSXeNXLnOXvnKZu9h41dxJkQPRE4Eg3tisBnkx/jSEAJy0v2XLEtULy3V83oUQQghXF9X5RJpnki3gCqCHPp1oKZfiNymfqrvuZOBi+NlAG8PU6E7285XL3MXEq+YeLLczINg0+DjJL9VP/N7j5I4T6Us9Ztj77qx64u2iCv9G5927zoaNT+Bl2/5moVQrS1Rr1MsmOryVD4wkeztEf0MASPZW3VBU+TFAkmeSLcLdXKPL9Mz/gMqZq9/LOgXlYhdpKwdTdVdD6vEQbV6UhR6Nu6agXNWjeioHEnfxcVoDIURF4OIoLudGaRqDGDGxEnE953YuiIXczVlRlSQzqtYJRKWKUorSuixtDuklxAlpHX3K2feL10trCWIv0yfP3CHLckVulIvKOg3lVOAiA+VGK5JJepy7mgQRJ38sNVI1jfEqp4oe1VN577hJc9cEilV+fgaVLEE9LmGcEJYbxWw1bfNssSI1s1cu49e6/by7hMxeuYzfqrk3/y2TH7HwfY8srgbJFhCuLukAH4EHpCoJ86vpJcwT0gA+Hlz9ZavG4EkDAHjlfeDdZQqvXA3eXeI40/gLhArRjiCLTxa2CzKczzzttR/CigIhhJCZLKvJffi9cp5ZNtm7S5ffK+eZdd3Fx/8DvnhBwcBBX+UAAAAASUVORK5CYII=\"></div>"
      ]
     },
     "execution_count": 25,
     "metadata": {
      "text/html": []
     },
     "output_type": "execute_result"
    }
   ],
   "source": [
    "Scan[Part[arr,{i-1,i-2}]=Log[Part[arr,{i-1,i-2}]], {1}];arr"
   ]
  },
  {
   "cell_type": "code",
   "execution_count": 8,
   "metadata": {},
   "outputs": [
    {
     "data": {
      "text/html": [
       "<div><img alt=\"Output\" src=\"data:image/png;base64,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\"></div>"
      ]
     },
     "execution_count": 8,
     "metadata": {
      "text/html": []
     },
     "output_type": "execute_result"
    }
   ],
   "source": [
    "For[i=1, i<4, i++, arr[[i,i]]=Log[arr[[i,i]]]];arr//MatrixForm"
   ]
  },
  {
   "cell_type": "code",
   "execution_count": 9,
   "metadata": {},
   "outputs": [
    {
     "data": {
      "text/html": [
       "<div><img alt=\"Output\" src=\"data:image/png;base64,iVBORw0KGgoAAAANSUhEUgAAADMAAAAPCAIAAADGe2CrAAAAhXpUWHRSYXcgcHJvZmlsZSB0eXBlIGV4aWYAAHjaVYvBDcMwDAP/mqIjyLJM2uMYiQNkg45fuu0n9yApgbT1vi97felp2dgxABc5csRU6P6juNciDXn+X9MfZGWgoRhTluEkhnJXkqKFN+LCAahYcIbnIV8gNQN3o86928QyPusLVffpbh/5eCey76LuBgAAAAlwSFlzAAALEwAACxMBAJqcGAAAADx0RVh0U29mdHdhcmUAQ3JlYXRlZCB3aXRoIHRoZSBXb2xmcmFtIExhbmd1YWdlIDogd3d3LndvbGZyYW0uY29tXKKmhQAAACF0RVh0Q3JlYXRpb24gVGltZQAyMDIwOjA0OjIzIDEwOjUzOjM4JfS5IAAAAUlJREFUSInllDtywyAQhlmfBaXI5AToBFKaVG7dodI+gEt1aaC0Oreu0hhOEJ1AkyJwl01hpED0ZjyTzOTvgH18+xgAEcmf1Oa3AUb1P8istdbezXlDCLEyTWV0yFZam2UIMgUAKHTvxVx9irtOk1JKpy10ATtyNoIN+YYX42SutrA+XYCn6U77tm2E7ITv+xn6aTIr0+SyNYiIaEST3xh0kTfidqk4YeI8mSQ7oZMRTT4wvRgye73U/Ojy0v2R1x/LlihQ17TkUK/3XrVn2QuvDwkAAOTNTMf8Bg/tVSQZfd6yqnRbZGVZsceEECvLNhfOrov9bDrG15iekX5JXLWb5MQ6nO87z7B9U8HRM2ZCcGccBvgRQokuESISXC7F/VCKe8hDZKsVkkX/Z/qtIk8Pyz6AOK0pKhh70DBENEYppZQZ8Z2J3Hf+AszW7N4H3/ZbAAAAAElFTkSuQmCC\"></div>"
      ]
     },
     "execution_count": 9,
     "metadata": {
      "text/html": []
     },
     "output_type": "execute_result"
    }
   ],
   "source": [
    "arr[[1,1]]"
   ]
  },
  {
   "cell_type": "code",
   "execution_count": null,
   "metadata": {},
   "outputs": [],
   "source": []
  }
 ],
 "metadata": {
  "kernelspec": {
   "display_name": "Wolfram Language 12",
   "language": "Wolfram Language",
   "name": "wolframlanguage12"
  },
  "language_info": {
   "codemirror_mode": "python",
   "file_extension": ".m",
   "mimetype": "application/vnd.wolfram.m",
   "name": "Wolfram Language",
   "pygments_lexer": "python",
   "version": "12.0"
  }
 },
 "nbformat": 4,
 "nbformat_minor": 2
}
